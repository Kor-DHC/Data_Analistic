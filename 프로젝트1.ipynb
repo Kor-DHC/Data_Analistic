{
  "nbformat": 4,
  "nbformat_minor": 0,
  "metadata": {
    "colab": {
      "name": "프로젝트1",
      "provenance": [],
      "authorship_tag": "ABX9TyM+FVYoeaCh2X1BV0CbtgNT",
      "include_colab_link": true
    },
    "kernelspec": {
      "name": "python3",
      "display_name": "Python 3"
    }
  },
  "cells": [
    {
      "cell_type": "markdown",
      "metadata": {
        "id": "view-in-github",
        "colab_type": "text"
      },
      "source": [
        "<a href=\"https://colab.research.google.com/github/qndbsxo/Data_Analistic/blob/juyeon_tech/%ED%94%84%EB%A1%9C%EC%A0%9D%ED%8A%B81.ipynb\" target=\"_parent\"><img src=\"https://colab.research.google.com/assets/colab-badge.svg\" alt=\"Open In Colab\"/></a>"
      ]
    },
    {
      "cell_type": "markdown",
      "metadata": {
        "id": "tw4crHOlTrtH"
      },
      "source": [
        "# 우리 동네인구 구조를 시각화하기!\r\n",
        "\r\n",
        "\r\n",
        "\r\n",
        "\r\n"
      ]
    },
    {
      "cell_type": "code",
      "metadata": {
        "id": "RBZ2S-EvH111"
      },
      "source": [
        "import numpy as np\r\n",
        "import pandas as pd\r\n",
        "import tensorflow as tf\r\n"
      ],
      "execution_count": null,
      "outputs": []
    },
    {
      "cell_type": "code",
      "metadata": {
        "id": "-bB_vqhOMIUB"
      },
      "source": [
        "import seaborn as sb\r\n",
        "import matplotlib.pyplot as plt\r\n",
        "import tensorflow as tf\r\n",
        "import tensorflow.keras "
      ],
      "execution_count": null,
      "outputs": []
    },
    {
      "cell_type": "code",
      "metadata": {
        "id": "4wmQADe4MW6E"
      },
      "source": [
        "import os \r\n",
        "from google.colab import files"
      ],
      "execution_count": null,
      "outputs": []
    },
    {
      "cell_type": "code",
      "metadata": {
        "id": "4biaLyGoeRVz"
      },
      "source": [
        ""
      ],
      "execution_count": null,
      "outputs": []
    },
    {
      "cell_type": "code",
      "metadata": {
        "colab": {
          "resources": {
            "http://localhost:8080/nbextensions/google.colab/files.js": {
              "data": "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",
              "ok": true,
              "headers": [
                [
                  "content-type",
                  "application/javascript"
                ]
              ],
              "status": 200,
              "status_text": ""
            }
          },
          "base_uri": "https://localhost:8080/",
          "height": 75
        },
        "id": "7WjX4v-8MimT",
        "outputId": "62977efe-78b7-439e-9245-4d5744043012"
      },
      "source": [
        "df = files.upload()"
      ],
      "execution_count": null,
      "outputs": [
        {
          "output_type": "display_data",
          "data": {
            "text/html": [
              "\n",
              "     <input type=\"file\" id=\"files-06723162-8457-42e0-8b4a-f3e19eb23fa2\" name=\"files[]\" multiple disabled\n",
              "        style=\"border:none\" />\n",
              "     <output id=\"result-06723162-8457-42e0-8b4a-f3e19eb23fa2\">\n",
              "      Upload widget is only available when the cell has been executed in the\n",
              "      current browser session. Please rerun this cell to enable.\n",
              "      </output>\n",
              "      <script src=\"/nbextensions/google.colab/files.js\"></script> "
            ],
            "text/plain": [
              "<IPython.core.display.HTML object>"
            ]
          },
          "metadata": {
            "tags": []
          }
        },
        {
          "output_type": "stream",
          "text": [
            "Saving 202101_202101_연령별인구현황_월간.csv to 202101_202101_연령별인구현황_월간.csv\n"
          ],
          "name": "stdout"
        }
      ]
    },
    {
      "cell_type": "code",
      "metadata": {
        "id": "S3cqPrrmMli2"
      },
      "source": [
        "population_structure = pd.read_csv('202101_202101_연령별인구현황_월간.csv', encoding='cp949', thousands=',')"
      ],
      "execution_count": null,
      "outputs": []
    },
    {
      "cell_type": "markdown",
      "metadata": {
        "id": "G1ru_Bx5TnbX"
      },
      "source": [
        "1. population_structure의 데이터를 파악하기 위해 describe()을 했을 때 최소값과 최대값이 나오지 않아서 당황함\r\n",
        "2. 숫자가 콤마로 구분되어 있다는 것을 인지함\r\n",
        "3. thousand=','를 통해서 "
      ]
    },
    {
      "cell_type": "code",
      "metadata": {
        "colab": {
          "base_uri": "https://localhost:8080/",
          "height": 237
        },
        "id": "bSlZen-7M_xA",
        "outputId": "78e495d4-b324-4d1b-f113-51e186b671c9"
      },
      "source": [
        "\r\n",
        "population_structure.head(3)"
      ],
      "execution_count": null,
      "outputs": [
        {
          "output_type": "execute_result",
          "data": {
            "text/html": [
              "<div>\n",
              "<style scoped>\n",
              "    .dataframe tbody tr th:only-of-type {\n",
              "        vertical-align: middle;\n",
              "    }\n",
              "\n",
              "    .dataframe tbody tr th {\n",
              "        vertical-align: top;\n",
              "    }\n",
              "\n",
              "    .dataframe thead th {\n",
              "        text-align: right;\n",
              "    }\n",
              "</style>\n",
              "<table border=\"1\" class=\"dataframe\">\n",
              "  <thead>\n",
              "    <tr style=\"text-align: right;\">\n",
              "      <th></th>\n",
              "      <th>행정구역</th>\n",
              "      <th>2021년01월_계_총인구수</th>\n",
              "      <th>2021년01월_계_연령구간인구수</th>\n",
              "      <th>2021년01월_계_0~9세</th>\n",
              "      <th>2021년01월_계_10~19세</th>\n",
              "      <th>2021년01월_계_20~29세</th>\n",
              "      <th>2021년01월_계_30~39세</th>\n",
              "      <th>2021년01월_계_40~49세</th>\n",
              "      <th>2021년01월_계_50~59세</th>\n",
              "      <th>2021년01월_계_60~69세</th>\n",
              "      <th>2021년01월_계_70~79세</th>\n",
              "      <th>2021년01월_계_80~89세</th>\n",
              "      <th>2021년01월_계_90~99세</th>\n",
              "      <th>2021년01월_계_100세 이상</th>\n",
              "    </tr>\n",
              "  </thead>\n",
              "  <tbody>\n",
              "    <tr>\n",
              "      <th>0</th>\n",
              "      <td>서울특별시  (1100000000)</td>\n",
              "      <td>9657969</td>\n",
              "      <td>9657969</td>\n",
              "      <td>618497</td>\n",
              "      <td>778910</td>\n",
              "      <td>1455044</td>\n",
              "      <td>1471606</td>\n",
              "      <td>1524671</td>\n",
              "      <td>1522983</td>\n",
              "      <td>1250098</td>\n",
              "      <td>706115</td>\n",
              "      <td>280163</td>\n",
              "      <td>43029</td>\n",
              "      <td>6853</td>\n",
              "    </tr>\n",
              "    <tr>\n",
              "      <th>1</th>\n",
              "      <td>서울특별시 종로구 (1111000000)</td>\n",
              "      <td>149125</td>\n",
              "      <td>149125</td>\n",
              "      <td>7449</td>\n",
              "      <td>10937</td>\n",
              "      <td>23331</td>\n",
              "      <td>19917</td>\n",
              "      <td>22132</td>\n",
              "      <td>25410</td>\n",
              "      <td>20069</td>\n",
              "      <td>12485</td>\n",
              "      <td>6016</td>\n",
              "      <td>1103</td>\n",
              "      <td>276</td>\n",
              "    </tr>\n",
              "    <tr>\n",
              "      <th>2</th>\n",
              "      <td>서울특별시 종로구 청운효자동(1111051500)</td>\n",
              "      <td>12426</td>\n",
              "      <td>12426</td>\n",
              "      <td>823</td>\n",
              "      <td>1165</td>\n",
              "      <td>1590</td>\n",
              "      <td>1683</td>\n",
              "      <td>2148</td>\n",
              "      <td>1981</td>\n",
              "      <td>1395</td>\n",
              "      <td>1008</td>\n",
              "      <td>536</td>\n",
              "      <td>77</td>\n",
              "      <td>20</td>\n",
              "    </tr>\n",
              "  </tbody>\n",
              "</table>\n",
              "</div>"
            ],
            "text/plain": [
              "                          행정구역  ...  2021년01월_계_100세 이상\n",
              "0          서울특별시  (1100000000)  ...                6853\n",
              "1       서울특별시 종로구 (1111000000)  ...                 276\n",
              "2  서울특별시 종로구 청운효자동(1111051500)  ...                  20\n",
              "\n",
              "[3 rows x 14 columns]"
            ]
          },
          "metadata": {
            "tags": []
          },
          "execution_count": 13
        }
      ]
    },
    {
      "cell_type": "markdown",
      "metadata": {
        "id": "_nQ0yns6UbYx"
      },
      "source": [
        "데이터의 정보가 지수표기법으로 나와있다.\r\n",
        "1. 실수 표현 방법 : pd.options.display.float_format = '{:.5f}'.format\r\n",
        "2. 다시 지수표기법으로 보기 : pd.reset_option('display.float_format')"
      ]
    },
    {
      "cell_type": "code",
      "metadata": {
        "id": "iAU4IhI_M_ut",
        "colab": {
          "base_uri": "https://localhost:8080/",
          "height": 321
        },
        "outputId": "e8d05ac0-c5b0-487f-bc89-8763aba56676"
      },
      "source": [
        "population_structure.describe()"
      ],
      "execution_count": null,
      "outputs": [
        {
          "output_type": "execute_result",
          "data": {
            "text/html": [
              "<div>\n",
              "<style scoped>\n",
              "    .dataframe tbody tr th:only-of-type {\n",
              "        vertical-align: middle;\n",
              "    }\n",
              "\n",
              "    .dataframe tbody tr th {\n",
              "        vertical-align: top;\n",
              "    }\n",
              "\n",
              "    .dataframe thead th {\n",
              "        text-align: right;\n",
              "    }\n",
              "</style>\n",
              "<table border=\"1\" class=\"dataframe\">\n",
              "  <thead>\n",
              "    <tr style=\"text-align: right;\">\n",
              "      <th></th>\n",
              "      <th>2021년01월_계_총인구수</th>\n",
              "      <th>2021년01월_계_연령구간인구수</th>\n",
              "      <th>2021년01월_계_0~9세</th>\n",
              "      <th>2021년01월_계_10~19세</th>\n",
              "      <th>2021년01월_계_20~29세</th>\n",
              "      <th>2021년01월_계_30~39세</th>\n",
              "      <th>2021년01월_계_40~49세</th>\n",
              "      <th>2021년01월_계_50~59세</th>\n",
              "      <th>2021년01월_계_60~69세</th>\n",
              "      <th>2021년01월_계_70~79세</th>\n",
              "      <th>2021년01월_계_80~89세</th>\n",
              "      <th>2021년01월_계_90~99세</th>\n",
              "      <th>2021년01월_계_100세 이상</th>\n",
              "    </tr>\n",
              "  </thead>\n",
              "  <tbody>\n",
              "    <tr>\n",
              "      <th>count</th>\n",
              "      <td>3.846000e+03</td>\n",
              "      <td>3.846000e+03</td>\n",
              "      <td>3.846000e+03</td>\n",
              "      <td>3.846000e+03</td>\n",
              "      <td>3.846000e+03</td>\n",
              "      <td>3.846000e+03</td>\n",
              "      <td>3.846000e+03</td>\n",
              "      <td>3.846000e+03</td>\n",
              "      <td>3.846000e+03</td>\n",
              "      <td>3846.000000</td>\n",
              "      <td>3846.000000</td>\n",
              "      <td>3846.000000</td>\n",
              "      <td>3846.000000</td>\n",
              "    </tr>\n",
              "    <tr>\n",
              "      <th>mean</th>\n",
              "      <td>4.281482e+04</td>\n",
              "      <td>4.281482e+04</td>\n",
              "      <td>3.269478e+03</td>\n",
              "      <td>3.971103e+03</td>\n",
              "      <td>5.632902e+03</td>\n",
              "      <td>5.676645e+03</td>\n",
              "      <td>6.862944e+03</td>\n",
              "      <td>7.147589e+03</td>\n",
              "      <td>5.578637e+03</td>\n",
              "      <td>3029.243890</td>\n",
              "      <td>1420.151846</td>\n",
              "      <td>208.215289</td>\n",
              "      <td>17.910556</td>\n",
              "    </tr>\n",
              "    <tr>\n",
              "      <th>std</th>\n",
              "      <td>3.063355e+05</td>\n",
              "      <td>3.063355e+05</td>\n",
              "      <td>2.392745e+04</td>\n",
              "      <td>2.854354e+04</td>\n",
              "      <td>4.203965e+04</td>\n",
              "      <td>4.326671e+04</td>\n",
              "      <td>5.048025e+04</td>\n",
              "      <td>5.057081e+04</td>\n",
              "      <td>3.811264e+04</td>\n",
              "      <td>20299.854861</td>\n",
              "      <td>9134.672820</td>\n",
              "      <td>1358.491254</td>\n",
              "      <td>144.440508</td>\n",
              "    </tr>\n",
              "    <tr>\n",
              "      <th>min</th>\n",
              "      <td>0.000000e+00</td>\n",
              "      <td>0.000000e+00</td>\n",
              "      <td>0.000000e+00</td>\n",
              "      <td>0.000000e+00</td>\n",
              "      <td>0.000000e+00</td>\n",
              "      <td>0.000000e+00</td>\n",
              "      <td>0.000000e+00</td>\n",
              "      <td>0.000000e+00</td>\n",
              "      <td>0.000000e+00</td>\n",
              "      <td>0.000000</td>\n",
              "      <td>0.000000</td>\n",
              "      <td>0.000000</td>\n",
              "      <td>0.000000</td>\n",
              "    </tr>\n",
              "    <tr>\n",
              "      <th>25%</th>\n",
              "      <td>3.606250e+03</td>\n",
              "      <td>3.606250e+03</td>\n",
              "      <td>1.140000e+02</td>\n",
              "      <td>1.872500e+02</td>\n",
              "      <td>2.842500e+02</td>\n",
              "      <td>2.420000e+02</td>\n",
              "      <td>3.770000e+02</td>\n",
              "      <td>6.510000e+02</td>\n",
              "      <td>7.592500e+02</td>\n",
              "      <td>521.250000</td>\n",
              "      <td>295.000000</td>\n",
              "      <td>42.000000</td>\n",
              "      <td>2.000000</td>\n",
              "    </tr>\n",
              "    <tr>\n",
              "      <th>50%</th>\n",
              "      <td>1.202000e+04</td>\n",
              "      <td>1.202000e+04</td>\n",
              "      <td>6.855000e+02</td>\n",
              "      <td>9.075000e+02</td>\n",
              "      <td>1.501500e+03</td>\n",
              "      <td>1.389000e+03</td>\n",
              "      <td>1.749000e+03</td>\n",
              "      <td>2.037000e+03</td>\n",
              "      <td>1.717500e+03</td>\n",
              "      <td>950.000000</td>\n",
              "      <td>450.000000</td>\n",
              "      <td>66.000000</td>\n",
              "      <td>4.000000</td>\n",
              "    </tr>\n",
              "    <tr>\n",
              "      <th>75%</th>\n",
              "      <td>2.473950e+04</td>\n",
              "      <td>2.473950e+04</td>\n",
              "      <td>1.797750e+03</td>\n",
              "      <td>2.288250e+03</td>\n",
              "      <td>3.329750e+03</td>\n",
              "      <td>3.293750e+03</td>\n",
              "      <td>3.984250e+03</td>\n",
              "      <td>4.110750e+03</td>\n",
              "      <td>3.032000e+03</td>\n",
              "      <td>1572.750000</td>\n",
              "      <td>681.750000</td>\n",
              "      <td>102.000000</td>\n",
              "      <td>10.000000</td>\n",
              "    </tr>\n",
              "    <tr>\n",
              "      <th>max</th>\n",
              "      <td>1.344950e+07</td>\n",
              "      <td>1.344950e+07</td>\n",
              "      <td>1.140854e+06</td>\n",
              "      <td>1.327712e+06</td>\n",
              "      <td>1.809285e+06</td>\n",
              "      <td>1.906582e+06</td>\n",
              "      <td>2.300938e+06</td>\n",
              "      <td>2.239200e+06</td>\n",
              "      <td>1.548037e+06</td>\n",
              "      <td>768814.000000</td>\n",
              "      <td>350794.000000</td>\n",
              "      <td>52908.000000</td>\n",
              "      <td>6853.000000</td>\n",
              "    </tr>\n",
              "  </tbody>\n",
              "</table>\n",
              "</div>"
            ],
            "text/plain": [
              "       2021년01월_계_총인구수  ...  2021년01월_계_100세 이상\n",
              "count     3.846000e+03  ...         3846.000000\n",
              "mean      4.281482e+04  ...           17.910556\n",
              "std       3.063355e+05  ...          144.440508\n",
              "min       0.000000e+00  ...            0.000000\n",
              "25%       3.606250e+03  ...            2.000000\n",
              "50%       1.202000e+04  ...            4.000000\n",
              "75%       2.473950e+04  ...           10.000000\n",
              "max       1.344950e+07  ...         6853.000000\n",
              "\n",
              "[8 rows x 13 columns]"
            ]
          },
          "metadata": {
            "tags": []
          },
          "execution_count": 14
        }
      ]
    },
    {
      "cell_type": "code",
      "metadata": {
        "id": "i2YjdO2EM_qE",
        "colab": {
          "base_uri": "https://localhost:8080/"
        },
        "outputId": "e8114d5f-6bc2-466c-b6c0-eefca205d749"
      },
      "source": [
        "population_structure.info()"
      ],
      "execution_count": null,
      "outputs": [
        {
          "output_type": "stream",
          "text": [
            "<class 'pandas.core.frame.DataFrame'>\n",
            "RangeIndex: 3846 entries, 0 to 3845\n",
            "Data columns (total 14 columns):\n",
            " #   Column              Non-Null Count  Dtype \n",
            "---  ------              --------------  ----- \n",
            " 0   행정구역                3846 non-null   object\n",
            " 1   2021년01월_계_총인구수     3846 non-null   int64 \n",
            " 2   2021년01월_계_연령구간인구수  3846 non-null   int64 \n",
            " 3   2021년01월_계_0~9세     3846 non-null   int64 \n",
            " 4   2021년01월_계_10~19세   3846 non-null   int64 \n",
            " 5   2021년01월_계_20~29세   3846 non-null   int64 \n",
            " 6   2021년01월_계_30~39세   3846 non-null   int64 \n",
            " 7   2021년01월_계_40~49세   3846 non-null   int64 \n",
            " 8   2021년01월_계_50~59세   3846 non-null   int64 \n",
            " 9   2021년01월_계_60~69세   3846 non-null   int64 \n",
            " 10  2021년01월_계_70~79세   3846 non-null   int64 \n",
            " 11  2021년01월_계_80~89세   3846 non-null   int64 \n",
            " 12  2021년01월_계_90~99세   3846 non-null   int64 \n",
            " 13  2021년01월_계_100세 이상  3846 non-null   int64 \n",
            "dtypes: int64(13), object(1)\n",
            "memory usage: 420.8+ KB\n"
          ],
          "name": "stdout"
        }
      ]
    },
    {
      "cell_type": "markdown",
      "metadata": {
        "id": "0ovfRhCAZ-oh"
      },
      "source": [
        "결측치 존재여부 확인"
      ]
    },
    {
      "cell_type": "code",
      "metadata": {
        "id": "GHU6ACanM_n7",
        "colab": {
          "base_uri": "https://localhost:8080/"
        },
        "outputId": "c2276cf0-a508-4e58-b4f3-9d1d0b6bf1a6"
      },
      "source": [
        "population_structure.isna().sum()"
      ],
      "execution_count": null,
      "outputs": [
        {
          "output_type": "execute_result",
          "data": {
            "text/plain": [
              "행정구역                  0\n",
              "2021년01월_계_총인구수       0\n",
              "2021년01월_계_연령구간인구수    0\n",
              "2021년01월_계_0~9세       0\n",
              "2021년01월_계_10~19세     0\n",
              "2021년01월_계_20~29세     0\n",
              "2021년01월_계_30~39세     0\n",
              "2021년01월_계_40~49세     0\n",
              "2021년01월_계_50~59세     0\n",
              "2021년01월_계_60~69세     0\n",
              "2021년01월_계_70~79세     0\n",
              "2021년01월_계_80~89세     0\n",
              "2021년01월_계_90~99세     0\n",
              "2021년01월_계_100세 이상    0\n",
              "dtype: int64"
            ]
          },
          "metadata": {
            "tags": []
          },
          "execution_count": 16
        }
      ]
    },
    {
      "cell_type": "code",
      "metadata": {
        "id": "zihsj08bM_lJ",
        "colab": {
          "base_uri": "https://localhost:8080/",
          "height": 331
        },
        "outputId": "1317a4a1-4a01-4788-a857-989016dcc578"
      },
      "source": [
        "\r\n",
        "population_structure.head()"
      ],
      "execution_count": null,
      "outputs": [
        {
          "output_type": "execute_result",
          "data": {
            "text/html": [
              "<div>\n",
              "<style scoped>\n",
              "    .dataframe tbody tr th:only-of-type {\n",
              "        vertical-align: middle;\n",
              "    }\n",
              "\n",
              "    .dataframe tbody tr th {\n",
              "        vertical-align: top;\n",
              "    }\n",
              "\n",
              "    .dataframe thead th {\n",
              "        text-align: right;\n",
              "    }\n",
              "</style>\n",
              "<table border=\"1\" class=\"dataframe\">\n",
              "  <thead>\n",
              "    <tr style=\"text-align: right;\">\n",
              "      <th></th>\n",
              "      <th>행정구역</th>\n",
              "      <th>2021년01월_계_총인구수</th>\n",
              "      <th>2021년01월_계_연령구간인구수</th>\n",
              "      <th>2021년01월_계_0~9세</th>\n",
              "      <th>2021년01월_계_10~19세</th>\n",
              "      <th>2021년01월_계_20~29세</th>\n",
              "      <th>2021년01월_계_30~39세</th>\n",
              "      <th>2021년01월_계_40~49세</th>\n",
              "      <th>2021년01월_계_50~59세</th>\n",
              "      <th>2021년01월_계_60~69세</th>\n",
              "      <th>2021년01월_계_70~79세</th>\n",
              "      <th>2021년01월_계_80~89세</th>\n",
              "      <th>2021년01월_계_90~99세</th>\n",
              "      <th>2021년01월_계_100세 이상</th>\n",
              "    </tr>\n",
              "  </thead>\n",
              "  <tbody>\n",
              "    <tr>\n",
              "      <th>0</th>\n",
              "      <td>서울특별시  (1100000000)</td>\n",
              "      <td>9657969</td>\n",
              "      <td>9657969</td>\n",
              "      <td>618497</td>\n",
              "      <td>778910</td>\n",
              "      <td>1455044</td>\n",
              "      <td>1471606</td>\n",
              "      <td>1524671</td>\n",
              "      <td>1522983</td>\n",
              "      <td>1250098</td>\n",
              "      <td>706115</td>\n",
              "      <td>280163</td>\n",
              "      <td>43029</td>\n",
              "      <td>6853</td>\n",
              "    </tr>\n",
              "    <tr>\n",
              "      <th>1</th>\n",
              "      <td>서울특별시 종로구 (1111000000)</td>\n",
              "      <td>149125</td>\n",
              "      <td>149125</td>\n",
              "      <td>7449</td>\n",
              "      <td>10937</td>\n",
              "      <td>23331</td>\n",
              "      <td>19917</td>\n",
              "      <td>22132</td>\n",
              "      <td>25410</td>\n",
              "      <td>20069</td>\n",
              "      <td>12485</td>\n",
              "      <td>6016</td>\n",
              "      <td>1103</td>\n",
              "      <td>276</td>\n",
              "    </tr>\n",
              "    <tr>\n",
              "      <th>2</th>\n",
              "      <td>서울특별시 종로구 청운효자동(1111051500)</td>\n",
              "      <td>12426</td>\n",
              "      <td>12426</td>\n",
              "      <td>823</td>\n",
              "      <td>1165</td>\n",
              "      <td>1590</td>\n",
              "      <td>1683</td>\n",
              "      <td>2148</td>\n",
              "      <td>1981</td>\n",
              "      <td>1395</td>\n",
              "      <td>1008</td>\n",
              "      <td>536</td>\n",
              "      <td>77</td>\n",
              "      <td>20</td>\n",
              "    </tr>\n",
              "    <tr>\n",
              "      <th>3</th>\n",
              "      <td>서울특별시 종로구 사직동(1111053000)</td>\n",
              "      <td>9544</td>\n",
              "      <td>9544</td>\n",
              "      <td>578</td>\n",
              "      <td>692</td>\n",
              "      <td>1235</td>\n",
              "      <td>1441</td>\n",
              "      <td>1492</td>\n",
              "      <td>1551</td>\n",
              "      <td>1212</td>\n",
              "      <td>767</td>\n",
              "      <td>463</td>\n",
              "      <td>92</td>\n",
              "      <td>21</td>\n",
              "    </tr>\n",
              "    <tr>\n",
              "      <th>4</th>\n",
              "      <td>서울특별시 종로구 삼청동(1111054000)</td>\n",
              "      <td>2613</td>\n",
              "      <td>2613</td>\n",
              "      <td>105</td>\n",
              "      <td>188</td>\n",
              "      <td>310</td>\n",
              "      <td>353</td>\n",
              "      <td>367</td>\n",
              "      <td>411</td>\n",
              "      <td>408</td>\n",
              "      <td>285</td>\n",
              "      <td>149</td>\n",
              "      <td>31</td>\n",
              "      <td>6</td>\n",
              "    </tr>\n",
              "  </tbody>\n",
              "</table>\n",
              "</div>"
            ],
            "text/plain": [
              "                          행정구역  ...  2021년01월_계_100세 이상\n",
              "0          서울특별시  (1100000000)  ...                6853\n",
              "1       서울특별시 종로구 (1111000000)  ...                 276\n",
              "2  서울특별시 종로구 청운효자동(1111051500)  ...                  20\n",
              "3    서울특별시 종로구 사직동(1111053000)  ...                  21\n",
              "4    서울특별시 종로구 삼청동(1111054000)  ...                   6\n",
              "\n",
              "[5 rows x 14 columns]"
            ]
          },
          "metadata": {
            "tags": []
          },
          "execution_count": 17
        }
      ]
    },
    {
      "cell_type": "markdown",
      "metadata": {
        "id": "oidNVFsfehx5"
      },
      "source": [
        "(1) 불필요한 컬럼 삭제"
      ]
    },
    {
      "cell_type": "code",
      "metadata": {
        "id": "eP86sg8yaQOM"
      },
      "source": [
        "population_structure.drop(population_structure.columns[[1,2]], axis=1,inplace=True)"
      ],
      "execution_count": null,
      "outputs": []
    },
    {
      "cell_type": "code",
      "metadata": {
        "colab": {
          "base_uri": "https://localhost:8080/",
          "height": 281
        },
        "id": "YiA4R6m1cCGQ",
        "outputId": "a6cecc44-4d7b-466a-99a7-5af18ac74b02"
      },
      "source": [
        "population_structure.head()"
      ],
      "execution_count": null,
      "outputs": [
        {
          "output_type": "execute_result",
          "data": {
            "text/html": [
              "<div>\n",
              "<style scoped>\n",
              "    .dataframe tbody tr th:only-of-type {\n",
              "        vertical-align: middle;\n",
              "    }\n",
              "\n",
              "    .dataframe tbody tr th {\n",
              "        vertical-align: top;\n",
              "    }\n",
              "\n",
              "    .dataframe thead th {\n",
              "        text-align: right;\n",
              "    }\n",
              "</style>\n",
              "<table border=\"1\" class=\"dataframe\">\n",
              "  <thead>\n",
              "    <tr style=\"text-align: right;\">\n",
              "      <th></th>\n",
              "      <th>행정구역</th>\n",
              "      <th>2021년01월_계_0~9세</th>\n",
              "      <th>2021년01월_계_10~19세</th>\n",
              "      <th>2021년01월_계_20~29세</th>\n",
              "      <th>2021년01월_계_30~39세</th>\n",
              "      <th>2021년01월_계_40~49세</th>\n",
              "      <th>2021년01월_계_50~59세</th>\n",
              "      <th>2021년01월_계_60~69세</th>\n",
              "      <th>2021년01월_계_70~79세</th>\n",
              "      <th>2021년01월_계_80~89세</th>\n",
              "      <th>2021년01월_계_90~99세</th>\n",
              "      <th>2021년01월_계_100세 이상</th>\n",
              "    </tr>\n",
              "  </thead>\n",
              "  <tbody>\n",
              "    <tr>\n",
              "      <th>0</th>\n",
              "      <td>서울특별시  (1100000000)</td>\n",
              "      <td>618497</td>\n",
              "      <td>778910</td>\n",
              "      <td>1455044</td>\n",
              "      <td>1471606</td>\n",
              "      <td>1524671</td>\n",
              "      <td>1522983</td>\n",
              "      <td>1250098</td>\n",
              "      <td>706115</td>\n",
              "      <td>280163</td>\n",
              "      <td>43029</td>\n",
              "      <td>6853</td>\n",
              "    </tr>\n",
              "    <tr>\n",
              "      <th>1</th>\n",
              "      <td>서울특별시 종로구 (1111000000)</td>\n",
              "      <td>7449</td>\n",
              "      <td>10937</td>\n",
              "      <td>23331</td>\n",
              "      <td>19917</td>\n",
              "      <td>22132</td>\n",
              "      <td>25410</td>\n",
              "      <td>20069</td>\n",
              "      <td>12485</td>\n",
              "      <td>6016</td>\n",
              "      <td>1103</td>\n",
              "      <td>276</td>\n",
              "    </tr>\n",
              "    <tr>\n",
              "      <th>2</th>\n",
              "      <td>서울특별시 종로구 청운효자동(1111051500)</td>\n",
              "      <td>823</td>\n",
              "      <td>1165</td>\n",
              "      <td>1590</td>\n",
              "      <td>1683</td>\n",
              "      <td>2148</td>\n",
              "      <td>1981</td>\n",
              "      <td>1395</td>\n",
              "      <td>1008</td>\n",
              "      <td>536</td>\n",
              "      <td>77</td>\n",
              "      <td>20</td>\n",
              "    </tr>\n",
              "    <tr>\n",
              "      <th>3</th>\n",
              "      <td>서울특별시 종로구 사직동(1111053000)</td>\n",
              "      <td>578</td>\n",
              "      <td>692</td>\n",
              "      <td>1235</td>\n",
              "      <td>1441</td>\n",
              "      <td>1492</td>\n",
              "      <td>1551</td>\n",
              "      <td>1212</td>\n",
              "      <td>767</td>\n",
              "      <td>463</td>\n",
              "      <td>92</td>\n",
              "      <td>21</td>\n",
              "    </tr>\n",
              "    <tr>\n",
              "      <th>4</th>\n",
              "      <td>서울특별시 종로구 삼청동(1111054000)</td>\n",
              "      <td>105</td>\n",
              "      <td>188</td>\n",
              "      <td>310</td>\n",
              "      <td>353</td>\n",
              "      <td>367</td>\n",
              "      <td>411</td>\n",
              "      <td>408</td>\n",
              "      <td>285</td>\n",
              "      <td>149</td>\n",
              "      <td>31</td>\n",
              "      <td>6</td>\n",
              "    </tr>\n",
              "  </tbody>\n",
              "</table>\n",
              "</div>"
            ],
            "text/plain": [
              "                          행정구역  ...  2021년01월_계_100세 이상\n",
              "0          서울특별시  (1100000000)  ...                6853\n",
              "1       서울특별시 종로구 (1111000000)  ...                 276\n",
              "2  서울특별시 종로구 청운효자동(1111051500)  ...                  20\n",
              "3    서울특별시 종로구 사직동(1111053000)  ...                  21\n",
              "4    서울특별시 종로구 삼청동(1111054000)  ...                   6\n",
              "\n",
              "[5 rows x 12 columns]"
            ]
          },
          "metadata": {
            "tags": []
          },
          "execution_count": 19
        }
      ]
    },
    {
      "cell_type": "code",
      "metadata": {
        "id": "1OAtFwO6dIc1"
      },
      "source": [
        ""
      ],
      "execution_count": null,
      "outputs": []
    },
    {
      "cell_type": "markdown",
      "metadata": {
        "id": "C5EEJ4zZeyim"
      },
      "source": [
        "우리 동네 인구 구조 시각화하기"
      ]
    },
    {
      "cell_type": "code",
      "metadata": {
        "colab": {
          "base_uri": "https://localhost:8080/"
        },
        "id": "aEgNq-IJe63o",
        "outputId": "5c2c78cf-49ec-4452-8d5e-4c7ecf4aa8b4"
      },
      "source": [
        "population_structure['행정구역'].str.contains('인천')"
      ],
      "execution_count": null,
      "outputs": [
        {
          "output_type": "execute_result",
          "data": {
            "text/plain": [
              "0       False\n",
              "1       False\n",
              "2       False\n",
              "3       False\n",
              "4       False\n",
              "        ...  \n",
              "3841    False\n",
              "3842    False\n",
              "3843    False\n",
              "3844    False\n",
              "3845    False\n",
              "Name: 행정구역, Length: 3846, dtype: bool"
            ]
          },
          "metadata": {
            "tags": []
          },
          "execution_count": 20
        }
      ]
    },
    {
      "cell_type": "markdown",
      "metadata": {
        "id": "KRWX6HkWhQZi"
      },
      "source": [
        "인천 서구의 인구로 새로운 데이터 프레임을 생성"
      ]
    },
    {
      "cell_type": "code",
      "metadata": {
        "id": "HnGACPjYe7rB"
      },
      "source": [
        "pop_inchoen  = population_structure.loc[population_structure['행정구역'].str.contains('인천광역시 서구'),]"
      ],
      "execution_count": null,
      "outputs": []
    },
    {
      "cell_type": "markdown",
      "metadata": {
        "id": "vy-U7Z8ZhOWE"
      },
      "source": [
        ""
      ]
    },
    {
      "cell_type": "code",
      "metadata": {
        "colab": {
          "base_uri": "https://localhost:8080/",
          "height": 1000
        },
        "id": "FIuRfX6Ne77M",
        "outputId": "b1860f29-c3e3-4307-c086-f12216818104"
      },
      "source": [
        "pop_inchoen.drop(pop_inchoen.index[0])"
      ],
      "execution_count": null,
      "outputs": [
        {
          "output_type": "execute_result",
          "data": {
            "text/html": [
              "<div>\n",
              "<style scoped>\n",
              "    .dataframe tbody tr th:only-of-type {\n",
              "        vertical-align: middle;\n",
              "    }\n",
              "\n",
              "    .dataframe tbody tr th {\n",
              "        vertical-align: top;\n",
              "    }\n",
              "\n",
              "    .dataframe thead th {\n",
              "        text-align: right;\n",
              "    }\n",
              "</style>\n",
              "<table border=\"1\" class=\"dataframe\">\n",
              "  <thead>\n",
              "    <tr style=\"text-align: right;\">\n",
              "      <th></th>\n",
              "      <th>행정구역</th>\n",
              "      <th>2021년01월_계_0~9세</th>\n",
              "      <th>2021년01월_계_10~19세</th>\n",
              "      <th>2021년01월_계_20~29세</th>\n",
              "      <th>2021년01월_계_30~39세</th>\n",
              "      <th>2021년01월_계_40~49세</th>\n",
              "      <th>2021년01월_계_50~59세</th>\n",
              "      <th>2021년01월_계_60~69세</th>\n",
              "      <th>2021년01월_계_70~79세</th>\n",
              "      <th>2021년01월_계_80~89세</th>\n",
              "      <th>2021년01월_계_90~99세</th>\n",
              "      <th>2021년01월_계_100세 이상</th>\n",
              "    </tr>\n",
              "  </thead>\n",
              "  <tbody>\n",
              "    <tr>\n",
              "      <th>949</th>\n",
              "      <td>인천광역시 서구 검암경서동(2826051500)</td>\n",
              "      <td>4569</td>\n",
              "      <td>4462</td>\n",
              "      <td>6489</td>\n",
              "      <td>8296</td>\n",
              "      <td>8526</td>\n",
              "      <td>6934</td>\n",
              "      <td>4085</td>\n",
              "      <td>1742</td>\n",
              "      <td>618</td>\n",
              "      <td>103</td>\n",
              "      <td>4</td>\n",
              "    </tr>\n",
              "    <tr>\n",
              "      <th>950</th>\n",
              "      <td>인천광역시 서구 연희동(2826053000)</td>\n",
              "      <td>2392</td>\n",
              "      <td>3528</td>\n",
              "      <td>6568</td>\n",
              "      <td>4931</td>\n",
              "      <td>6244</td>\n",
              "      <td>8694</td>\n",
              "      <td>5349</td>\n",
              "      <td>2272</td>\n",
              "      <td>1133</td>\n",
              "      <td>190</td>\n",
              "      <td>16</td>\n",
              "    </tr>\n",
              "    <tr>\n",
              "      <th>951</th>\n",
              "      <td>인천광역시 서구 청라1동(2826053600)</td>\n",
              "      <td>3840</td>\n",
              "      <td>4458</td>\n",
              "      <td>3900</td>\n",
              "      <td>5711</td>\n",
              "      <td>6538</td>\n",
              "      <td>4064</td>\n",
              "      <td>1913</td>\n",
              "      <td>664</td>\n",
              "      <td>294</td>\n",
              "      <td>41</td>\n",
              "      <td>2</td>\n",
              "    </tr>\n",
              "    <tr>\n",
              "      <th>952</th>\n",
              "      <td>인천광역시 서구 청라2동(2826053700)</td>\n",
              "      <td>6776</td>\n",
              "      <td>6348</td>\n",
              "      <td>5718</td>\n",
              "      <td>8197</td>\n",
              "      <td>10074</td>\n",
              "      <td>6665</td>\n",
              "      <td>3485</td>\n",
              "      <td>1125</td>\n",
              "      <td>435</td>\n",
              "      <td>81</td>\n",
              "      <td>4</td>\n",
              "    </tr>\n",
              "    <tr>\n",
              "      <th>953</th>\n",
              "      <td>인천광역시 서구 청라3동(2826053900)</td>\n",
              "      <td>4707</td>\n",
              "      <td>3869</td>\n",
              "      <td>3279</td>\n",
              "      <td>5636</td>\n",
              "      <td>6160</td>\n",
              "      <td>3958</td>\n",
              "      <td>2030</td>\n",
              "      <td>576</td>\n",
              "      <td>223</td>\n",
              "      <td>49</td>\n",
              "      <td>1</td>\n",
              "    </tr>\n",
              "    <tr>\n",
              "      <th>954</th>\n",
              "      <td>인천광역시 서구 가정1동(2826054200)</td>\n",
              "      <td>3280</td>\n",
              "      <td>2111</td>\n",
              "      <td>3477</td>\n",
              "      <td>4896</td>\n",
              "      <td>4550</td>\n",
              "      <td>4671</td>\n",
              "      <td>3336</td>\n",
              "      <td>1329</td>\n",
              "      <td>536</td>\n",
              "      <td>102</td>\n",
              "      <td>7</td>\n",
              "    </tr>\n",
              "    <tr>\n",
              "      <th>955</th>\n",
              "      <td>인천광역시 서구 가정2동(2826054300)</td>\n",
              "      <td>342</td>\n",
              "      <td>408</td>\n",
              "      <td>1017</td>\n",
              "      <td>913</td>\n",
              "      <td>827</td>\n",
              "      <td>1617</td>\n",
              "      <td>1021</td>\n",
              "      <td>297</td>\n",
              "      <td>133</td>\n",
              "      <td>33</td>\n",
              "      <td>7</td>\n",
              "    </tr>\n",
              "    <tr>\n",
              "      <th>956</th>\n",
              "      <td>인천광역시 서구 가정3동(2826054400)</td>\n",
              "      <td>461</td>\n",
              "      <td>763</td>\n",
              "      <td>1568</td>\n",
              "      <td>1203</td>\n",
              "      <td>1318</td>\n",
              "      <td>2255</td>\n",
              "      <td>1476</td>\n",
              "      <td>504</td>\n",
              "      <td>243</td>\n",
              "      <td>28</td>\n",
              "      <td>3</td>\n",
              "    </tr>\n",
              "    <tr>\n",
              "      <th>957</th>\n",
              "      <td>인천광역시 서구 석남1동(2826055000)</td>\n",
              "      <td>1229</td>\n",
              "      <td>1566</td>\n",
              "      <td>3279</td>\n",
              "      <td>2952</td>\n",
              "      <td>3220</td>\n",
              "      <td>4734</td>\n",
              "      <td>3570</td>\n",
              "      <td>1516</td>\n",
              "      <td>575</td>\n",
              "      <td>93</td>\n",
              "      <td>10</td>\n",
              "    </tr>\n",
              "    <tr>\n",
              "      <th>958</th>\n",
              "      <td>인천광역시 서구 석남2동(2826056000)</td>\n",
              "      <td>680</td>\n",
              "      <td>930</td>\n",
              "      <td>1723</td>\n",
              "      <td>1559</td>\n",
              "      <td>1882</td>\n",
              "      <td>2771</td>\n",
              "      <td>2295</td>\n",
              "      <td>1035</td>\n",
              "      <td>393</td>\n",
              "      <td>69</td>\n",
              "      <td>4</td>\n",
              "    </tr>\n",
              "    <tr>\n",
              "      <th>959</th>\n",
              "      <td>인천광역시 서구 석남3동(2826056100)</td>\n",
              "      <td>598</td>\n",
              "      <td>1229</td>\n",
              "      <td>2172</td>\n",
              "      <td>1534</td>\n",
              "      <td>2062</td>\n",
              "      <td>2969</td>\n",
              "      <td>2159</td>\n",
              "      <td>959</td>\n",
              "      <td>411</td>\n",
              "      <td>52</td>\n",
              "      <td>2</td>\n",
              "    </tr>\n",
              "    <tr>\n",
              "      <th>960</th>\n",
              "      <td>인천광역시 서구 신현원창동(2826057500)</td>\n",
              "      <td>2749</td>\n",
              "      <td>2995</td>\n",
              "      <td>4320</td>\n",
              "      <td>4480</td>\n",
              "      <td>4951</td>\n",
              "      <td>6045</td>\n",
              "      <td>4374</td>\n",
              "      <td>1593</td>\n",
              "      <td>567</td>\n",
              "      <td>94</td>\n",
              "      <td>6</td>\n",
              "    </tr>\n",
              "    <tr>\n",
              "      <th>961</th>\n",
              "      <td>인천광역시 서구 가좌1동(2826058000)</td>\n",
              "      <td>627</td>\n",
              "      <td>880</td>\n",
              "      <td>1732</td>\n",
              "      <td>1578</td>\n",
              "      <td>1841</td>\n",
              "      <td>2522</td>\n",
              "      <td>1811</td>\n",
              "      <td>859</td>\n",
              "      <td>344</td>\n",
              "      <td>43</td>\n",
              "      <td>3</td>\n",
              "    </tr>\n",
              "    <tr>\n",
              "      <th>962</th>\n",
              "      <td>인천광역시 서구 가좌2동(2826059000)</td>\n",
              "      <td>1394</td>\n",
              "      <td>1934</td>\n",
              "      <td>2945</td>\n",
              "      <td>2544</td>\n",
              "      <td>3049</td>\n",
              "      <td>3991</td>\n",
              "      <td>2906</td>\n",
              "      <td>1073</td>\n",
              "      <td>489</td>\n",
              "      <td>96</td>\n",
              "      <td>3</td>\n",
              "    </tr>\n",
              "    <tr>\n",
              "      <th>963</th>\n",
              "      <td>인천광역시 서구 가좌3동(2826060000)</td>\n",
              "      <td>660</td>\n",
              "      <td>1257</td>\n",
              "      <td>2372</td>\n",
              "      <td>1809</td>\n",
              "      <td>2267</td>\n",
              "      <td>3359</td>\n",
              "      <td>2853</td>\n",
              "      <td>1277</td>\n",
              "      <td>560</td>\n",
              "      <td>98</td>\n",
              "      <td>7</td>\n",
              "    </tr>\n",
              "    <tr>\n",
              "      <th>964</th>\n",
              "      <td>인천광역시 서구 가좌4동(2826061000)</td>\n",
              "      <td>787</td>\n",
              "      <td>798</td>\n",
              "      <td>1370</td>\n",
              "      <td>1644</td>\n",
              "      <td>1616</td>\n",
              "      <td>1987</td>\n",
              "      <td>1673</td>\n",
              "      <td>649</td>\n",
              "      <td>281</td>\n",
              "      <td>57</td>\n",
              "      <td>6</td>\n",
              "    </tr>\n",
              "    <tr>\n",
              "      <th>965</th>\n",
              "      <td>인천광역시 서구 검단동(2826068000)</td>\n",
              "      <td>2673</td>\n",
              "      <td>3440</td>\n",
              "      <td>4725</td>\n",
              "      <td>4662</td>\n",
              "      <td>5851</td>\n",
              "      <td>5789</td>\n",
              "      <td>3544</td>\n",
              "      <td>1595</td>\n",
              "      <td>661</td>\n",
              "      <td>92</td>\n",
              "      <td>12</td>\n",
              "    </tr>\n",
              "    <tr>\n",
              "      <th>966</th>\n",
              "      <td>인천광역시 서구 불로대곡동(2826069000)</td>\n",
              "      <td>1902</td>\n",
              "      <td>2821</td>\n",
              "      <td>2874</td>\n",
              "      <td>2543</td>\n",
              "      <td>4485</td>\n",
              "      <td>3953</td>\n",
              "      <td>2233</td>\n",
              "      <td>1319</td>\n",
              "      <td>621</td>\n",
              "      <td>59</td>\n",
              "      <td>6</td>\n",
              "    </tr>\n",
              "    <tr>\n",
              "      <th>967</th>\n",
              "      <td>인천광역시 서구 원당동(2826070000)</td>\n",
              "      <td>2519</td>\n",
              "      <td>3516</td>\n",
              "      <td>2756</td>\n",
              "      <td>3317</td>\n",
              "      <td>5578</td>\n",
              "      <td>3648</td>\n",
              "      <td>1806</td>\n",
              "      <td>977</td>\n",
              "      <td>398</td>\n",
              "      <td>63</td>\n",
              "      <td>4</td>\n",
              "    </tr>\n",
              "    <tr>\n",
              "      <th>968</th>\n",
              "      <td>인천광역시 서구 당하동(2826071000)</td>\n",
              "      <td>2932</td>\n",
              "      <td>3322</td>\n",
              "      <td>3851</td>\n",
              "      <td>4547</td>\n",
              "      <td>5462</td>\n",
              "      <td>4556</td>\n",
              "      <td>2241</td>\n",
              "      <td>923</td>\n",
              "      <td>431</td>\n",
              "      <td>63</td>\n",
              "      <td>2</td>\n",
              "    </tr>\n",
              "    <tr>\n",
              "      <th>969</th>\n",
              "      <td>인천광역시 서구 오류왕길동(2826072000)</td>\n",
              "      <td>2276</td>\n",
              "      <td>2675</td>\n",
              "      <td>3142</td>\n",
              "      <td>3261</td>\n",
              "      <td>4332</td>\n",
              "      <td>4412</td>\n",
              "      <td>2774</td>\n",
              "      <td>1215</td>\n",
              "      <td>530</td>\n",
              "      <td>98</td>\n",
              "      <td>2</td>\n",
              "    </tr>\n",
              "    <tr>\n",
              "      <th>970</th>\n",
              "      <td>인천광역시 서구 마전동(2826073000)</td>\n",
              "      <td>2115</td>\n",
              "      <td>3264</td>\n",
              "      <td>3169</td>\n",
              "      <td>2857</td>\n",
              "      <td>4412</td>\n",
              "      <td>3886</td>\n",
              "      <td>1998</td>\n",
              "      <td>976</td>\n",
              "      <td>429</td>\n",
              "      <td>73</td>\n",
              "      <td>0</td>\n",
              "    </tr>\n",
              "    <tr>\n",
              "      <th>971</th>\n",
              "      <td>인천광역시 서구검단출장소 (2826500000)</td>\n",
              "      <td>0</td>\n",
              "      <td>0</td>\n",
              "      <td>0</td>\n",
              "      <td>0</td>\n",
              "      <td>0</td>\n",
              "      <td>0</td>\n",
              "      <td>0</td>\n",
              "      <td>0</td>\n",
              "      <td>0</td>\n",
              "      <td>0</td>\n",
              "      <td>0</td>\n",
              "    </tr>\n",
              "  </tbody>\n",
              "</table>\n",
              "</div>"
            ],
            "text/plain": [
              "                           행정구역  ...  2021년01월_계_100세 이상\n",
              "949  인천광역시 서구 검암경서동(2826051500)  ...                   4\n",
              "950    인천광역시 서구 연희동(2826053000)  ...                  16\n",
              "951   인천광역시 서구 청라1동(2826053600)  ...                   2\n",
              "952   인천광역시 서구 청라2동(2826053700)  ...                   4\n",
              "953   인천광역시 서구 청라3동(2826053900)  ...                   1\n",
              "954   인천광역시 서구 가정1동(2826054200)  ...                   7\n",
              "955   인천광역시 서구 가정2동(2826054300)  ...                   7\n",
              "956   인천광역시 서구 가정3동(2826054400)  ...                   3\n",
              "957   인천광역시 서구 석남1동(2826055000)  ...                  10\n",
              "958   인천광역시 서구 석남2동(2826056000)  ...                   4\n",
              "959   인천광역시 서구 석남3동(2826056100)  ...                   2\n",
              "960  인천광역시 서구 신현원창동(2826057500)  ...                   6\n",
              "961   인천광역시 서구 가좌1동(2826058000)  ...                   3\n",
              "962   인천광역시 서구 가좌2동(2826059000)  ...                   3\n",
              "963   인천광역시 서구 가좌3동(2826060000)  ...                   7\n",
              "964   인천광역시 서구 가좌4동(2826061000)  ...                   6\n",
              "965    인천광역시 서구 검단동(2826068000)  ...                  12\n",
              "966  인천광역시 서구 불로대곡동(2826069000)  ...                   6\n",
              "967    인천광역시 서구 원당동(2826070000)  ...                   4\n",
              "968    인천광역시 서구 당하동(2826071000)  ...                   2\n",
              "969  인천광역시 서구 오류왕길동(2826072000)  ...                   2\n",
              "970    인천광역시 서구 마전동(2826073000)  ...                   0\n",
              "971  인천광역시 서구검단출장소 (2826500000)  ...                   0\n",
              "\n",
              "[23 rows x 12 columns]"
            ]
          },
          "metadata": {
            "tags": []
          },
          "execution_count": 22
        }
      ]
    },
    {
      "cell_type": "code",
      "metadata": {
        "id": "yAI5OFXzg4PM"
      },
      "source": [
        "pop_inchoen.reset_index(inplace=True)"
      ],
      "execution_count": null,
      "outputs": []
    },
    {
      "cell_type": "code",
      "metadata": {
        "colab": {
          "base_uri": "https://localhost:8080/"
        },
        "id": "xXLv0tGmhKNT",
        "outputId": "857e64ad-6dc1-47ff-db5d-5dc17b0e68ba"
      },
      "source": [
        "pop_inchoen.drop(axis=1,columns='index', inplace=True)"
      ],
      "execution_count": null,
      "outputs": [
        {
          "output_type": "stream",
          "text": [
            "/usr/local/lib/python3.7/dist-packages/pandas/core/frame.py:4174: SettingWithCopyWarning: \n",
            "A value is trying to be set on a copy of a slice from a DataFrame\n",
            "\n",
            "See the caveats in the documentation: https://pandas.pydata.org/pandas-docs/stable/user_guide/indexing.html#returning-a-view-versus-a-copy\n",
            "  errors=errors,\n"
          ],
          "name": "stderr"
        }
      ]
    },
    {
      "cell_type": "code",
      "metadata": {
        "colab": {
          "base_uri": "https://localhost:8080/",
          "height": 297
        },
        "id": "Ws-CTWAqTFgI",
        "outputId": "c8643f6f-6a28-438b-fad4-e4b2dbff1df6"
      },
      "source": [
        "pop_inchoen.head()"
      ],
      "execution_count": null,
      "outputs": [
        {
          "output_type": "execute_result",
          "data": {
            "text/html": [
              "<div>\n",
              "<style scoped>\n",
              "    .dataframe tbody tr th:only-of-type {\n",
              "        vertical-align: middle;\n",
              "    }\n",
              "\n",
              "    .dataframe tbody tr th {\n",
              "        vertical-align: top;\n",
              "    }\n",
              "\n",
              "    .dataframe thead th {\n",
              "        text-align: right;\n",
              "    }\n",
              "</style>\n",
              "<table border=\"1\" class=\"dataframe\">\n",
              "  <thead>\n",
              "    <tr style=\"text-align: right;\">\n",
              "      <th></th>\n",
              "      <th>행정구역</th>\n",
              "      <th>2021년01월_계_0~9세</th>\n",
              "      <th>2021년01월_계_10~19세</th>\n",
              "      <th>2021년01월_계_20~29세</th>\n",
              "      <th>2021년01월_계_30~39세</th>\n",
              "      <th>2021년01월_계_40~49세</th>\n",
              "      <th>2021년01월_계_50~59세</th>\n",
              "      <th>2021년01월_계_60~69세</th>\n",
              "      <th>2021년01월_계_70~79세</th>\n",
              "      <th>2021년01월_계_80~89세</th>\n",
              "      <th>2021년01월_계_90~99세</th>\n",
              "      <th>2021년01월_계_100세 이상</th>\n",
              "    </tr>\n",
              "  </thead>\n",
              "  <tbody>\n",
              "    <tr>\n",
              "      <th>0</th>\n",
              "      <td>인천광역시 서구 (2826000000)</td>\n",
              "      <td>49508</td>\n",
              "      <td>56574</td>\n",
              "      <td>72446</td>\n",
              "      <td>79070</td>\n",
              "      <td>95245</td>\n",
              "      <td>93480</td>\n",
              "      <td>58932</td>\n",
              "      <td>24475</td>\n",
              "      <td>10305</td>\n",
              "      <td>1677</td>\n",
              "      <td>111</td>\n",
              "    </tr>\n",
              "    <tr>\n",
              "      <th>1</th>\n",
              "      <td>인천광역시 서구 검암경서동(2826051500)</td>\n",
              "      <td>4569</td>\n",
              "      <td>4462</td>\n",
              "      <td>6489</td>\n",
              "      <td>8296</td>\n",
              "      <td>8526</td>\n",
              "      <td>6934</td>\n",
              "      <td>4085</td>\n",
              "      <td>1742</td>\n",
              "      <td>618</td>\n",
              "      <td>103</td>\n",
              "      <td>4</td>\n",
              "    </tr>\n",
              "    <tr>\n",
              "      <th>2</th>\n",
              "      <td>인천광역시 서구 연희동(2826053000)</td>\n",
              "      <td>2392</td>\n",
              "      <td>3528</td>\n",
              "      <td>6568</td>\n",
              "      <td>4931</td>\n",
              "      <td>6244</td>\n",
              "      <td>8694</td>\n",
              "      <td>5349</td>\n",
              "      <td>2272</td>\n",
              "      <td>1133</td>\n",
              "      <td>190</td>\n",
              "      <td>16</td>\n",
              "    </tr>\n",
              "    <tr>\n",
              "      <th>3</th>\n",
              "      <td>인천광역시 서구 청라1동(2826053600)</td>\n",
              "      <td>3840</td>\n",
              "      <td>4458</td>\n",
              "      <td>3900</td>\n",
              "      <td>5711</td>\n",
              "      <td>6538</td>\n",
              "      <td>4064</td>\n",
              "      <td>1913</td>\n",
              "      <td>664</td>\n",
              "      <td>294</td>\n",
              "      <td>41</td>\n",
              "      <td>2</td>\n",
              "    </tr>\n",
              "    <tr>\n",
              "      <th>4</th>\n",
              "      <td>인천광역시 서구 청라2동(2826053700)</td>\n",
              "      <td>6776</td>\n",
              "      <td>6348</td>\n",
              "      <td>5718</td>\n",
              "      <td>8197</td>\n",
              "      <td>10074</td>\n",
              "      <td>6665</td>\n",
              "      <td>3485</td>\n",
              "      <td>1125</td>\n",
              "      <td>435</td>\n",
              "      <td>81</td>\n",
              "      <td>4</td>\n",
              "    </tr>\n",
              "  </tbody>\n",
              "</table>\n",
              "</div>"
            ],
            "text/plain": [
              "                         행정구역  ...  2021년01월_계_100세 이상\n",
              "0       인천광역시 서구 (2826000000)  ...                 111\n",
              "1  인천광역시 서구 검암경서동(2826051500)  ...                   4\n",
              "2    인천광역시 서구 연희동(2826053000)  ...                  16\n",
              "3   인천광역시 서구 청라1동(2826053600)  ...                   2\n",
              "4   인천광역시 서구 청라2동(2826053700)  ...                   4\n",
              "\n",
              "[5 rows x 12 columns]"
            ]
          },
          "metadata": {
            "tags": []
          },
          "execution_count": 30
        }
      ]
    },
    {
      "cell_type": "code",
      "metadata": {
        "colab": {
          "base_uri": "https://localhost:8080/",
          "height": 602
        },
        "id": "dtFhrDFiTFcG",
        "outputId": "06e81aa4-5ccf-4b8e-a649-e1767401c672"
      },
      "source": [
        "pop_inchoen.plot(kind='scatter',x=np.arange(0,101), y=pop_inchoen.iloc[:, 1:])\r\n",
        "plt.show()"
      ],
      "execution_count": null,
      "outputs": [
        {
          "output_type": "error",
          "ename": "KeyError",
          "evalue": "ignored",
          "traceback": [
            "\u001b[0;31m---------------------------------------------------------------------------\u001b[0m",
            "\u001b[0;31mKeyError\u001b[0m                                  Traceback (most recent call last)",
            "\u001b[0;32m<ipython-input-35-752da578afdf>\u001b[0m in \u001b[0;36m<module>\u001b[0;34m()\u001b[0m\n\u001b[0;32m----> 1\u001b[0;31m \u001b[0mpop_inchoen\u001b[0m\u001b[0;34m.\u001b[0m\u001b[0mplot\u001b[0m\u001b[0;34m(\u001b[0m\u001b[0mkind\u001b[0m\u001b[0;34m=\u001b[0m\u001b[0;34m'scatter'\u001b[0m\u001b[0;34m,\u001b[0m\u001b[0mx\u001b[0m\u001b[0;34m=\u001b[0m\u001b[0mnp\u001b[0m\u001b[0;34m.\u001b[0m\u001b[0marange\u001b[0m\u001b[0;34m(\u001b[0m\u001b[0;36m0\u001b[0m\u001b[0;34m,\u001b[0m\u001b[0;36m101\u001b[0m\u001b[0;34m)\u001b[0m\u001b[0;34m,\u001b[0m \u001b[0my\u001b[0m\u001b[0;34m=\u001b[0m\u001b[0mpop_inchoen\u001b[0m\u001b[0;34m.\u001b[0m\u001b[0miloc\u001b[0m\u001b[0;34m[\u001b[0m\u001b[0;34m:\u001b[0m\u001b[0;34m,\u001b[0m \u001b[0;36m1\u001b[0m\u001b[0;34m:\u001b[0m\u001b[0;34m]\u001b[0m\u001b[0;34m)\u001b[0m\u001b[0;34m\u001b[0m\u001b[0;34m\u001b[0m\u001b[0m\n\u001b[0m\u001b[1;32m      2\u001b[0m \u001b[0mplt\u001b[0m\u001b[0;34m.\u001b[0m\u001b[0mshow\u001b[0m\u001b[0;34m(\u001b[0m\u001b[0;34m)\u001b[0m\u001b[0;34m\u001b[0m\u001b[0;34m\u001b[0m\u001b[0m\n",
            "\u001b[0;32m/usr/local/lib/python3.7/dist-packages/pandas/plotting/_core.py\u001b[0m in \u001b[0;36m__call__\u001b[0;34m(self, *args, **kwargs)\u001b[0m\n\u001b[1;32m    892\u001b[0m         \u001b[0;32mif\u001b[0m \u001b[0mkind\u001b[0m \u001b[0;32min\u001b[0m \u001b[0mself\u001b[0m\u001b[0;34m.\u001b[0m\u001b[0m_dataframe_kinds\u001b[0m\u001b[0;34m:\u001b[0m\u001b[0;34m\u001b[0m\u001b[0;34m\u001b[0m\u001b[0m\n\u001b[1;32m    893\u001b[0m             \u001b[0;32mif\u001b[0m \u001b[0misinstance\u001b[0m\u001b[0;34m(\u001b[0m\u001b[0mdata\u001b[0m\u001b[0;34m,\u001b[0m \u001b[0mABCDataFrame\u001b[0m\u001b[0;34m)\u001b[0m\u001b[0;34m:\u001b[0m\u001b[0;34m\u001b[0m\u001b[0;34m\u001b[0m\u001b[0m\n\u001b[0;32m--> 894\u001b[0;31m                 \u001b[0;32mreturn\u001b[0m \u001b[0mplot_backend\u001b[0m\u001b[0;34m.\u001b[0m\u001b[0mplot\u001b[0m\u001b[0;34m(\u001b[0m\u001b[0mdata\u001b[0m\u001b[0;34m,\u001b[0m \u001b[0mx\u001b[0m\u001b[0;34m=\u001b[0m\u001b[0mx\u001b[0m\u001b[0;34m,\u001b[0m \u001b[0my\u001b[0m\u001b[0;34m=\u001b[0m\u001b[0my\u001b[0m\u001b[0;34m,\u001b[0m \u001b[0mkind\u001b[0m\u001b[0;34m=\u001b[0m\u001b[0mkind\u001b[0m\u001b[0;34m,\u001b[0m \u001b[0;34m**\u001b[0m\u001b[0mkwargs\u001b[0m\u001b[0;34m)\u001b[0m\u001b[0;34m\u001b[0m\u001b[0;34m\u001b[0m\u001b[0m\n\u001b[0m\u001b[1;32m    895\u001b[0m             \u001b[0;32melse\u001b[0m\u001b[0;34m:\u001b[0m\u001b[0;34m\u001b[0m\u001b[0;34m\u001b[0m\u001b[0m\n\u001b[1;32m    896\u001b[0m                 \u001b[0;32mraise\u001b[0m \u001b[0mValueError\u001b[0m\u001b[0;34m(\u001b[0m\u001b[0;34mf\"plot kind {kind} can only be used for data frames\"\u001b[0m\u001b[0;34m)\u001b[0m\u001b[0;34m\u001b[0m\u001b[0;34m\u001b[0m\u001b[0m\n",
            "\u001b[0;32m/usr/local/lib/python3.7/dist-packages/pandas/plotting/_matplotlib/__init__.py\u001b[0m in \u001b[0;36mplot\u001b[0;34m(data, kind, **kwargs)\u001b[0m\n\u001b[1;32m     59\u001b[0m             \u001b[0mkwargs\u001b[0m\u001b[0;34m[\u001b[0m\u001b[0;34m\"ax\"\u001b[0m\u001b[0;34m]\u001b[0m \u001b[0;34m=\u001b[0m \u001b[0mgetattr\u001b[0m\u001b[0;34m(\u001b[0m\u001b[0max\u001b[0m\u001b[0;34m,\u001b[0m \u001b[0;34m\"left_ax\"\u001b[0m\u001b[0;34m,\u001b[0m \u001b[0max\u001b[0m\u001b[0;34m)\u001b[0m\u001b[0;34m\u001b[0m\u001b[0;34m\u001b[0m\u001b[0m\n\u001b[1;32m     60\u001b[0m     \u001b[0mplot_obj\u001b[0m \u001b[0;34m=\u001b[0m \u001b[0mPLOT_CLASSES\u001b[0m\u001b[0;34m[\u001b[0m\u001b[0mkind\u001b[0m\u001b[0;34m]\u001b[0m\u001b[0;34m(\u001b[0m\u001b[0mdata\u001b[0m\u001b[0;34m,\u001b[0m \u001b[0;34m**\u001b[0m\u001b[0mkwargs\u001b[0m\u001b[0;34m)\u001b[0m\u001b[0;34m\u001b[0m\u001b[0;34m\u001b[0m\u001b[0m\n\u001b[0;32m---> 61\u001b[0;31m     \u001b[0mplot_obj\u001b[0m\u001b[0;34m.\u001b[0m\u001b[0mgenerate\u001b[0m\u001b[0;34m(\u001b[0m\u001b[0;34m)\u001b[0m\u001b[0;34m\u001b[0m\u001b[0;34m\u001b[0m\u001b[0m\n\u001b[0m\u001b[1;32m     62\u001b[0m     \u001b[0mplot_obj\u001b[0m\u001b[0;34m.\u001b[0m\u001b[0mdraw\u001b[0m\u001b[0;34m(\u001b[0m\u001b[0;34m)\u001b[0m\u001b[0;34m\u001b[0m\u001b[0;34m\u001b[0m\u001b[0m\n\u001b[1;32m     63\u001b[0m     \u001b[0;32mreturn\u001b[0m \u001b[0mplot_obj\u001b[0m\u001b[0;34m.\u001b[0m\u001b[0mresult\u001b[0m\u001b[0;34m\u001b[0m\u001b[0;34m\u001b[0m\u001b[0m\n",
            "\u001b[0;32m/usr/local/lib/python3.7/dist-packages/pandas/plotting/_matplotlib/core.py\u001b[0m in \u001b[0;36mgenerate\u001b[0;34m(self)\u001b[0m\n\u001b[1;32m    269\u001b[0m         \u001b[0mself\u001b[0m\u001b[0;34m.\u001b[0m\u001b[0m_compute_plot_data\u001b[0m\u001b[0;34m(\u001b[0m\u001b[0;34m)\u001b[0m\u001b[0;34m\u001b[0m\u001b[0;34m\u001b[0m\u001b[0m\n\u001b[1;32m    270\u001b[0m         \u001b[0mself\u001b[0m\u001b[0;34m.\u001b[0m\u001b[0m_setup_subplots\u001b[0m\u001b[0;34m(\u001b[0m\u001b[0;34m)\u001b[0m\u001b[0;34m\u001b[0m\u001b[0;34m\u001b[0m\u001b[0m\n\u001b[0;32m--> 271\u001b[0;31m         \u001b[0mself\u001b[0m\u001b[0;34m.\u001b[0m\u001b[0m_make_plot\u001b[0m\u001b[0;34m(\u001b[0m\u001b[0;34m)\u001b[0m\u001b[0;34m\u001b[0m\u001b[0;34m\u001b[0m\u001b[0m\n\u001b[0m\u001b[1;32m    272\u001b[0m         \u001b[0mself\u001b[0m\u001b[0;34m.\u001b[0m\u001b[0m_add_table\u001b[0m\u001b[0;34m(\u001b[0m\u001b[0;34m)\u001b[0m\u001b[0;34m\u001b[0m\u001b[0;34m\u001b[0m\u001b[0m\n\u001b[1;32m    273\u001b[0m         \u001b[0mself\u001b[0m\u001b[0;34m.\u001b[0m\u001b[0m_make_legend\u001b[0m\u001b[0;34m(\u001b[0m\u001b[0;34m)\u001b[0m\u001b[0;34m\u001b[0m\u001b[0;34m\u001b[0m\u001b[0m\n",
            "\u001b[0;32m/usr/local/lib/python3.7/dist-packages/pandas/plotting/_matplotlib/core.py\u001b[0m in \u001b[0;36m_make_plot\u001b[0;34m(self)\u001b[0m\n\u001b[1;32m   1009\u001b[0m             \u001b[0mlabel\u001b[0m \u001b[0;34m=\u001b[0m \u001b[0;32mNone\u001b[0m\u001b[0;34m\u001b[0m\u001b[0;34m\u001b[0m\u001b[0m\n\u001b[1;32m   1010\u001b[0m         scatter = ax.scatter(\n\u001b[0;32m-> 1011\u001b[0;31m             \u001b[0mdata\u001b[0m\u001b[0;34m[\u001b[0m\u001b[0mx\u001b[0m\u001b[0;34m]\u001b[0m\u001b[0;34m.\u001b[0m\u001b[0mvalues\u001b[0m\u001b[0;34m,\u001b[0m\u001b[0;34m\u001b[0m\u001b[0;34m\u001b[0m\u001b[0m\n\u001b[0m\u001b[1;32m   1012\u001b[0m             \u001b[0mdata\u001b[0m\u001b[0;34m[\u001b[0m\u001b[0my\u001b[0m\u001b[0;34m]\u001b[0m\u001b[0;34m.\u001b[0m\u001b[0mvalues\u001b[0m\u001b[0;34m,\u001b[0m\u001b[0;34m\u001b[0m\u001b[0;34m\u001b[0m\u001b[0m\n\u001b[1;32m   1013\u001b[0m             \u001b[0mc\u001b[0m\u001b[0;34m=\u001b[0m\u001b[0mc_values\u001b[0m\u001b[0;34m,\u001b[0m\u001b[0;34m\u001b[0m\u001b[0;34m\u001b[0m\u001b[0m\n",
            "\u001b[0;32m/usr/local/lib/python3.7/dist-packages/pandas/core/frame.py\u001b[0m in \u001b[0;36m__getitem__\u001b[0;34m(self, key)\u001b[0m\n\u001b[1;32m   2910\u001b[0m             \u001b[0;32mif\u001b[0m \u001b[0mis_iterator\u001b[0m\u001b[0;34m(\u001b[0m\u001b[0mkey\u001b[0m\u001b[0;34m)\u001b[0m\u001b[0;34m:\u001b[0m\u001b[0;34m\u001b[0m\u001b[0;34m\u001b[0m\u001b[0m\n\u001b[1;32m   2911\u001b[0m                 \u001b[0mkey\u001b[0m \u001b[0;34m=\u001b[0m \u001b[0mlist\u001b[0m\u001b[0;34m(\u001b[0m\u001b[0mkey\u001b[0m\u001b[0;34m)\u001b[0m\u001b[0;34m\u001b[0m\u001b[0;34m\u001b[0m\u001b[0m\n\u001b[0;32m-> 2912\u001b[0;31m             \u001b[0mindexer\u001b[0m \u001b[0;34m=\u001b[0m \u001b[0mself\u001b[0m\u001b[0;34m.\u001b[0m\u001b[0mloc\u001b[0m\u001b[0;34m.\u001b[0m\u001b[0m_get_listlike_indexer\u001b[0m\u001b[0;34m(\u001b[0m\u001b[0mkey\u001b[0m\u001b[0;34m,\u001b[0m \u001b[0maxis\u001b[0m\u001b[0;34m=\u001b[0m\u001b[0;36m1\u001b[0m\u001b[0;34m,\u001b[0m \u001b[0mraise_missing\u001b[0m\u001b[0;34m=\u001b[0m\u001b[0;32mTrue\u001b[0m\u001b[0;34m)\u001b[0m\u001b[0;34m[\u001b[0m\u001b[0;36m1\u001b[0m\u001b[0;34m]\u001b[0m\u001b[0;34m\u001b[0m\u001b[0;34m\u001b[0m\u001b[0m\n\u001b[0m\u001b[1;32m   2913\u001b[0m \u001b[0;34m\u001b[0m\u001b[0m\n\u001b[1;32m   2914\u001b[0m         \u001b[0;31m# take() does not accept boolean indexers\u001b[0m\u001b[0;34m\u001b[0m\u001b[0;34m\u001b[0m\u001b[0;34m\u001b[0m\u001b[0m\n",
            "\u001b[0;32m/usr/local/lib/python3.7/dist-packages/pandas/core/indexing.py\u001b[0m in \u001b[0;36m_get_listlike_indexer\u001b[0;34m(self, key, axis, raise_missing)\u001b[0m\n\u001b[1;32m   1252\u001b[0m             \u001b[0mkeyarr\u001b[0m\u001b[0;34m,\u001b[0m \u001b[0mindexer\u001b[0m\u001b[0;34m,\u001b[0m \u001b[0mnew_indexer\u001b[0m \u001b[0;34m=\u001b[0m \u001b[0max\u001b[0m\u001b[0;34m.\u001b[0m\u001b[0m_reindex_non_unique\u001b[0m\u001b[0;34m(\u001b[0m\u001b[0mkeyarr\u001b[0m\u001b[0;34m)\u001b[0m\u001b[0;34m\u001b[0m\u001b[0;34m\u001b[0m\u001b[0m\n\u001b[1;32m   1253\u001b[0m \u001b[0;34m\u001b[0m\u001b[0m\n\u001b[0;32m-> 1254\u001b[0;31m         \u001b[0mself\u001b[0m\u001b[0;34m.\u001b[0m\u001b[0m_validate_read_indexer\u001b[0m\u001b[0;34m(\u001b[0m\u001b[0mkeyarr\u001b[0m\u001b[0;34m,\u001b[0m \u001b[0mindexer\u001b[0m\u001b[0;34m,\u001b[0m \u001b[0maxis\u001b[0m\u001b[0;34m,\u001b[0m \u001b[0mraise_missing\u001b[0m\u001b[0;34m=\u001b[0m\u001b[0mraise_missing\u001b[0m\u001b[0;34m)\u001b[0m\u001b[0;34m\u001b[0m\u001b[0;34m\u001b[0m\u001b[0m\n\u001b[0m\u001b[1;32m   1255\u001b[0m         \u001b[0;32mreturn\u001b[0m \u001b[0mkeyarr\u001b[0m\u001b[0;34m,\u001b[0m \u001b[0mindexer\u001b[0m\u001b[0;34m\u001b[0m\u001b[0;34m\u001b[0m\u001b[0m\n\u001b[1;32m   1256\u001b[0m \u001b[0;34m\u001b[0m\u001b[0m\n",
            "\u001b[0;32m/usr/local/lib/python3.7/dist-packages/pandas/core/indexing.py\u001b[0m in \u001b[0;36m_validate_read_indexer\u001b[0;34m(self, key, indexer, axis, raise_missing)\u001b[0m\n\u001b[1;32m   1296\u001b[0m             \u001b[0;32mif\u001b[0m \u001b[0mmissing\u001b[0m \u001b[0;34m==\u001b[0m \u001b[0mlen\u001b[0m\u001b[0;34m(\u001b[0m\u001b[0mindexer\u001b[0m\u001b[0;34m)\u001b[0m\u001b[0;34m:\u001b[0m\u001b[0;34m\u001b[0m\u001b[0;34m\u001b[0m\u001b[0m\n\u001b[1;32m   1297\u001b[0m                 \u001b[0maxis_name\u001b[0m \u001b[0;34m=\u001b[0m \u001b[0mself\u001b[0m\u001b[0;34m.\u001b[0m\u001b[0mobj\u001b[0m\u001b[0;34m.\u001b[0m\u001b[0m_get_axis_name\u001b[0m\u001b[0;34m(\u001b[0m\u001b[0maxis\u001b[0m\u001b[0;34m)\u001b[0m\u001b[0;34m\u001b[0m\u001b[0;34m\u001b[0m\u001b[0m\n\u001b[0;32m-> 1298\u001b[0;31m                 \u001b[0;32mraise\u001b[0m \u001b[0mKeyError\u001b[0m\u001b[0;34m(\u001b[0m\u001b[0;34mf\"None of [{key}] are in the [{axis_name}]\"\u001b[0m\u001b[0;34m)\u001b[0m\u001b[0;34m\u001b[0m\u001b[0;34m\u001b[0m\u001b[0m\n\u001b[0m\u001b[1;32m   1299\u001b[0m \u001b[0;34m\u001b[0m\u001b[0m\n\u001b[1;32m   1300\u001b[0m             \u001b[0;31m# We (temporarily) allow for some missing keys with .loc, except in\u001b[0m\u001b[0;34m\u001b[0m\u001b[0;34m\u001b[0m\u001b[0;34m\u001b[0m\u001b[0m\n",
            "\u001b[0;31mKeyError\u001b[0m: \"None of [Int64Index([  0,   1,   2,   3,   4,   5,   6,   7,   8,   9,\\n            ...\\n             91,  92,  93,  94,  95,  96,  97,  98,  99, 100],\\n           dtype='int64', length=101)] are in the [columns]\""
          ]
        },
        {
          "output_type": "display_data",
          "data": {
            "image/png": "[encoded data removed]",
            "text/plain": [
              "<Figure size 432x288 with 1 Axes>"
            ]
          },
          "metadata": {
            "tags": [],
            "needs_background": "light"
          }
        }
      ]
    },
    {
      "cell_type": "code",
      "metadata": {
        "colab": {
          "base_uri": "https://localhost:8080/"
        },
        "id": "kOP5IpELTFZF",
        "outputId": "a93cf6c3-b1f0-4ea1-fc7a-1275e7c2477f"
      },
      "source": [
        "pop_inchoen.iloc[:, 1:].isna().sum()"
      ],
      "execution_count": null,
      "outputs": [
        {
          "output_type": "execute_result",
          "data": {
            "text/plain": [
              "2021년01월_계_0~9세       0\n",
              "2021년01월_계_10~19세     0\n",
              "2021년01월_계_20~29세     0\n",
              "2021년01월_계_30~39세     0\n",
              "2021년01월_계_40~49세     0\n",
              "2021년01월_계_50~59세     0\n",
              "2021년01월_계_60~69세     0\n",
              "2021년01월_계_70~79세     0\n",
              "2021년01월_계_80~89세     0\n",
              "2021년01월_계_90~99세     0\n",
              "2021년01월_계_100세 이상    0\n",
              "dtype: int64"
            ]
          },
          "metadata": {
            "tags": []
          },
          "execution_count": 37
        }
      ]
    },
    {
      "cell_type": "markdown",
      "metadata": {
        "id": "4ut5UfKrPaIK"
      },
      "source": [
        "수정이 어떻게 되는지 확인하기 위함"
      ]
    }
  ]
}